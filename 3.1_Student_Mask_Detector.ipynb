{
 "cells": [
  {
   "cell_type": "markdown",
   "id": "subtle-interview",
   "metadata": {},
   "source": [
    "# 3.1 Student Mask Detector"
   ]
  },
  {
   "cell_type": "markdown",
   "id": "scheduled-reply",
   "metadata": {},
   "source": [
    "#### Standard Imports"
   ]
  },
  {
   "cell_type": "code",
   "execution_count": 1,
   "id": "fresh-bernard",
   "metadata": {
    "scrolled": true
   },
   "outputs": [],
   "source": [
    "import classroom_mask_detector_essestials as cmde  # All the Custom classes, functions and Constants for this project"
   ]
  },
  {
   "cell_type": "code",
   "execution_count": 2,
   "id": "objective-publication",
   "metadata": {},
   "outputs": [],
   "source": [
    "import numpy as np\n",
    "import cv2\n",
    "import face_recognition\n",
    "\n",
    "from keras.models import load_model\n",
    "import os\n",
    "from time import time"
   ]
  },
  {
   "cell_type": "markdown",
   "id": "connected-sailing",
   "metadata": {},
   "source": [
    "#### Email Credentials"
   ]
  },
  {
   "cell_type": "code",
   "execution_count": 3,
   "id": "alpine-optimum",
   "metadata": {},
   "outputs": [],
   "source": [
    "MY_EMAIL = None\n",
    "PASSWORD = None\n",
    "AUTHORITY_EMAIL = None"
   ]
  },
  {
   "cell_type": "markdown",
   "id": "modular-intranet",
   "metadata": {},
   "source": [
    "##### The face detector and the mask detector"
   ]
  },
  {
   "cell_type": "code",
   "execution_count": 4,
   "id": "regulated-providence",
   "metadata": {},
   "outputs": [],
   "source": [
    "face_detector = cv2.CascadeClassifier('./Data/haarcascade_frontalface_default.xml')"
   ]
  },
  {
   "cell_type": "code",
   "execution_count": 5,
   "id": "later-clarity",
   "metadata": {},
   "outputs": [],
   "source": [
    "mask_detector = load_model('./Data/mask_detection_model.model')"
   ]
  },
  {
   "cell_type": "markdown",
   "id": "cheap-rebound",
   "metadata": {},
   "source": [
    "#### Functions to simplify the code"
   ]
  },
  {
   "cell_type": "code",
   "execution_count": 6,
   "id": "heavy-merit",
   "metadata": {},
   "outputs": [],
   "source": [
    "def predict_class_and_probability(image):\n",
    "    prediction = mask_detector.predict(image)\n",
    "    class_ = np.argmax(prediction)  # getting the index of the hightes prediction\n",
    "    probability = np.max(prediction)\n",
    "    return class_, probability"
   ]
  },
  {
   "cell_type": "code",
   "execution_count": 7,
   "id": "tamil-seafood",
   "metadata": {},
   "outputs": [],
   "source": [
    "def resize_preprocess_reshape_image(image):\n",
    "    image = cv2.resize(image, (cmde.IMAGE_SIZE, cmde.IMAGE_SIZE)) # Resize the Image to the dimensions\n",
    "    image = cmde.preprocess_image(image)  \n",
    "    image = image.reshape(1, cmde.IMAGE_SIZE, cmde.IMAGE_SIZE, 1)\n",
    "    return image"
   ]
  },
  {
   "cell_type": "markdown",
   "id": "digital-webmaster",
   "metadata": {},
   "source": [
    "#### The main loop"
   ]
  },
  {
   "cell_type": "code",
   "execution_count": 9,
   "id": "terminal-spectacular",
   "metadata": {
    "scrolled": false
   },
   "outputs": [
    {
     "name": "stdout",
     "output_type": "stream",
     "text": [
      "Sending the mails if needed...\n",
      "[IdentifiedFace] Sent the Report\n",
      "[UnidentifiedFace] No unidentified students to report\n",
      "Done!\n"
     ]
    }
   ],
   "source": [
    "webcam = cv2.VideoCapture(0)\n",
    "\n",
    "known_faces = cmde.KnownFaceEncodings(new_image_added=True)\n",
    "# make sure the lists of student is None\n",
    "cmde.IdentifiedFace.flush()\n",
    "cmde.UnidentifiedFace.flush()\n",
    "\n",
    "time_run = 0\n",
    "t1 = time() # get the initial time\n",
    "\n",
    "while cmde.RUN_FOR > time_run:\n",
    "    sucess, frame = webcam.read()\n",
    "    \n",
    "    frame_gray = cv2.cvtColor(frame, cv2.COLOR_BGR2GRAY)  # Converting the image to grey for better face recognition\n",
    "    faces = face_detector.detectMultiScale(frame_gray, 1.3, 5)  # Detect for faces in the current frame\n",
    "\n",
    "    for x, y, w, h in faces: # for x_cor, y_cor, width, height of every face\n",
    "        crop_img = frame[y: y+h, x: x+h]  # crop the frame just to the face using list slicing\n",
    "        \n",
    "        img = resize_preprocess_reshape_image(crop_img) \n",
    "\n",
    "        # Pridict for the face (if it is wearing mask or not)\n",
    "        class_, probability = predict_class_and_probability(img)\n",
    "\n",
    "        if probability >= cmde.THRESHOLD and class_ == cmde.WITHOUT_MASK:\n",
    "            \n",
    "            face = cv2.cvtColor(crop_img, cv2.COLOR_BGR2RGB)\n",
    "            encoded_face = face_recognition.face_encodings(face)\n",
    "            \n",
    "            if len(encoded_face) >= 1:\n",
    "                # get the matches and the distance to identify the name of the person who is not wearing a mask \n",
    "                matches = face_recognition.compare_faces(known_faces.encodings, encoded_face)\n",
    "                distance = face_recognition.face_distance(known_faces.encodings, encoded_face)\n",
    "                idx = np.argmin(distance)\n",
    "\n",
    "                if matches[idx]:  # if the comparision is true then add it to the identified faces\n",
    "                    name = known_faces.names[idx]\n",
    "                    cmde.IdentifiedFace(name, crop_img)  # Add the identified face\n",
    "                    \n",
    "                else:\n",
    "                    cmde.UnidentifiedFace(crop_img, encoded_face)  # Add the unidentified face\n",
    "    \n",
    "    cv2.imshow(\"Webcam\", frame)\n",
    "    key = cv2.waitKey(1) # to force quit\n",
    "    if key == ord('q') or key == ord('Q'):\n",
    "        break\n",
    "        \n",
    "    t2 = time()\n",
    "    time_run = t2 - t1 # update the time\n",
    "        \n",
    "webcam.release()\n",
    "cv2.destroyAllWindows()\n",
    "print('Sending the mails if needed...')\n",
    "\n",
    "# Report to the authorities\n",
    "cmde.IdentifiedFace.report_to_authority(MY_EMAIL, PASSWORD, AUTHORITY_EMAIL)\n",
    "cmde.UnidentifiedFace.report_to_authority(MY_EMAIL, PASSWORD, AUTHORITY_EMAIL)\n",
    "print('Done!')"
   ]
  },
  {
   "cell_type": "markdown",
   "id": "latest-climate",
   "metadata": {},
   "source": [
    "### The result email is \n",
    "![demo email](./Assets/mail_by_final_project.png)\n",
    "# Thank You "
   ]
  }
 ],
 "metadata": {
  "kernelspec": {
   "display_name": "maskDetector",
   "language": "python",
   "name": "maskdetector"
  },
  "language_info": {
   "codemirror_mode": {
    "name": "ipython",
    "version": 3
   },
   "file_extension": ".py",
   "mimetype": "text/x-python",
   "name": "python",
   "nbconvert_exporter": "python",
   "pygments_lexer": "ipython3",
   "version": "3.6.13"
  }
 },
 "nbformat": 4,
 "nbformat_minor": 5
}
