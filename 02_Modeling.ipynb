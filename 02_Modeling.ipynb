{
 "cells": [
  {
   "cell_type": "markdown",
   "metadata": {},
   "source": [
    "# 02. Modeling"
   ]
  },
  {
   "cell_type": "markdown",
   "metadata": {},
   "source": [
    "![Model](./Assets/model.png)"
   ]
  },
  {
   "cell_type": "markdown",
   "metadata": {},
   "source": [
    "In this notebook, I will be making a _Machine Learning **Neural Network** Model_ to classify between the image as `With Mask` and `Without Mask` \n",
    "![mask, without mask](./Assets/mask_no_mask.png)"
   ]
  },
  {
   "cell_type": "markdown",
   "metadata": {},
   "source": [
    "### For this Model as it is a classification problem, we will be aiming for accuracy of >95% "
   ]
  },
  {
   "cell_type": "code",
   "execution_count": 1,
   "metadata": {},
   "outputs": [],
   "source": [
    "# Standard Imports\n",
    "%matplotlib inline\n",
    "import numpy as np\n",
    "import matplotlib.pyplot as plt\n",
    "import cv2"
   ]
  },
  {
   "cell_type": "code",
   "execution_count": 2,
   "metadata": {},
   "outputs": [],
   "source": [
    "# importing function to split the data\n",
    "from sklearn.model_selection import train_test_split"
   ]
  },
  {
   "cell_type": "code",
   "execution_count": 3,
   "metadata": {},
   "outputs": [],
   "source": [
    "# Imports for preprocessing the data\n",
    "from keras.preprocessing.image import ImageDataGenerator\n",
    "from keras.utils.np_utils import to_categorical"
   ]
  },
  {
   "cell_type": "code",
   "execution_count": 4,
   "metadata": {},
   "outputs": [],
   "source": [
    "# Imports for making of the Model\n",
    "from keras.models import Sequential\n",
    "from keras.layers import Conv2D, Dense, MaxPooling2D, Activation, Dropout, Flatten\n",
    "from keras.optimizers import Adam"
   ]
  },
  {
   "cell_type": "markdown",
   "metadata": {},
   "source": [
    "Defining the constants"
   ]
  },
  {
   "cell_type": "code",
   "execution_count": 5,
   "metadata": {},
   "outputs": [],
   "source": [
    "TEST_RATIO = 0.2\n",
    "VAL_RATIO = 0.2 # Validation ratio\n",
    "IMAGE_SIZE = 32 # Image size 32 x 32 px\n",
    "# Model constants\n",
    "BATCH_SIZE = 50\n",
    "EPOCHS = 25\n",
    "MODEL_PATH = './Data/mask_detection_model.model'  # the path where model will be saved"
   ]
  },
  {
   "cell_type": "markdown",
   "metadata": {},
   "source": [
    "### Loading the data"
   ]
  },
  {
   "cell_type": "code",
   "execution_count": 7,
   "metadata": {},
   "outputs": [
    {
     "data": {
      "text/plain": [
       "(4024, 4024, 2)"
      ]
     },
     "execution_count": 7,
     "metadata": {},
     "output_type": "execute_result"
    }
   ],
   "source": [
    "images = np.load('./Data/images.npy')\n",
    "classes = np.load('./Data/target.npy')\n",
    "\n",
    "number_of_classes = len(np.unique(classes)) # Getting the total number of unique classes\n",
    "\n",
    "len(images), len(classes), number_of_classes"
   ]
  },
  {
   "cell_type": "markdown",
   "metadata": {},
   "source": [
    "### Spliting the data into train, test and validation set"
   ]
  },
  {
   "cell_type": "markdown",
   "metadata": {},
   "source": [
    "`X` are the features and `y` is the target"
   ]
  },
  {
   "cell_type": "code",
   "execution_count": 8,
   "metadata": {},
   "outputs": [
    {
     "name": "stdout",
     "output_type": "stream",
     "text": [
      "Train set -> X: (2575, 32, 32, 3), y: (2575,)\n",
      "Test set -> X: (805, 32, 32, 3), y: (805,)\n",
      "Validation set -> X: (644, 32, 32, 3), y: (644,)\n"
     ]
    }
   ],
   "source": [
    "X_train, X_test, y_train, y_test = train_test_split(images, classes, test_size=TEST_RATIO)\n",
    "X_train, X_validation, y_train, y_validation = train_test_split(X_train, y_train, test_size=VAL_RATIO)\n",
    "\n",
    "# checking the shapes of the data\n",
    "print(f\"Train set -> X: {X_train.shape}, y: {y_train.shape}\")\n",
    "print(f\"Test set -> X: {X_test.shape}, y: {y_test.shape}\")\n",
    "print(f\"Validation set -> X: {X_validation.shape}, y: {y_validation.shape}\")"
   ]
  },
  {
   "cell_type": "markdown",
   "metadata": {},
   "source": [
    "### Before we make the model, we should:\n",
    "- Reshape the sets to the needed shape\n",
    "- Increase the contrast of the image for better results using [cv2.equalizeHist()](https://docs.opencv.org/master/d5/daf/tutorial_py_histogram_equalization.html)\n",
    "- Convert the integer values to float values between 0 and 1\n",
    "- And also make sure they all are also grey for good results\n",
    "- The target array should be categorical "
   ]
  },
  {
   "cell_type": "code",
   "execution_count": 9,
   "metadata": {},
   "outputs": [],
   "source": [
    "# defining a function to preprocess the images\n",
    "def img_preprocessing(image):\n",
    "    \"\"\"Takes an image and returns the preprocesses version of it.\"\"\"\n",
    "    image = cv2.cvtColor(image, cv2.COLOR_BGR2GRAY)\n",
    "    \n",
    "    image = cv2.equalizeHist(image)  # Increasing the contrast of the image\n",
    "    \n",
    "    image = image / 255  # converting the image to float\n",
    "    \n",
    "    return image"
   ]
  },
  {
   "cell_type": "code",
   "execution_count": 10,
   "metadata": {},
   "outputs": [],
   "source": [
    "# Preprocessing the Images\n",
    "X_train = np.array(list(map(img_preprocessing, X_train)))\n",
    "X_test = np.array(list(map(img_preprocessing, X_test)))\n",
    "X_validation = np.array(list(map(img_preprocessing, X_validation)))\n",
    "\n",
    "# Reshaping the sets\n",
    "# the new shape should be (*previous_shape, 1), i.e. it should be array first element of a new array \n",
    "X_train = X_train.reshape(X_train.shape[0], X_train.shape[1], X_train.shape[2], 1)\n",
    "X_test = X_test.reshape(X_test.shape[0], X_test.shape[1], X_test.shape[2], 1)\n",
    "X_validation = X_validation.reshape(X_validation.shape[0], X_validation.shape[1], X_validation.shape[2], 1)"
   ]
  },
  {
   "cell_type": "code",
   "execution_count": 11,
   "metadata": {},
   "outputs": [],
   "source": [
    "# turning the y sets (target sets) into categorical arays\n",
    "# using a built in function in keras for one-hot-encoding the sets\n",
    "y_train = to_categorical(y_train, number_of_classes)\n",
    "y_test = to_categorical(y_test, number_of_classes)\n",
    "y_validation = to_categorical(y_validation, number_of_classes)"
   ]
  },
  {
   "cell_type": "code",
   "execution_count": 12,
   "metadata": {},
   "outputs": [],
   "source": [
    "# using Image data augmentation \n",
    "# Image data argumentation is a technique that can be used to artificially expand the size of a \n",
    "# training dataset by creating modified versions of images in the dataset \n",
    "\n",
    "# creating the ImageDataGenerator object\n",
    "data_gen = ImageDataGenerator(\n",
    "    width_shift_range=0.1,\n",
    "    height_shift_range=0.1,\n",
    "    zoom_range=0.2,\n",
    "    shear_range=0.1,\n",
    "    rotation_range=10\n",
    ")"
   ]
  },
  {
   "cell_type": "code",
   "execution_count": 13,
   "metadata": {},
   "outputs": [],
   "source": [
    "# generation and fiting the train images\n",
    "data_gen.fit(X_train)"
   ]
  },
  {
   "cell_type": "markdown",
   "metadata": {},
   "source": [
    "## Making the ML Model to classify between Mask and No-Mask images"
   ]
  },
  {
   "cell_type": "code",
   "execution_count": 14,
   "metadata": {
    "scrolled": true
   },
   "outputs": [
    {
     "name": "stdout",
     "output_type": "stream",
     "text": [
      "Model: \"sequential\"\n",
      "_________________________________________________________________\n",
      "Layer (type)                 Output Shape              Param #   \n",
      "=================================================================\n",
      "conv2d (Conv2D)              (None, 30, 30, 32)        320       \n",
      "_________________________________________________________________\n",
      "conv2d_1 (Conv2D)            (None, 28, 28, 32)        9248      \n",
      "_________________________________________________________________\n",
      "max_pooling2d (MaxPooling2D) (None, 14, 14, 32)        0         \n",
      "_________________________________________________________________\n",
      "conv2d_2 (Conv2D)            (None, 12, 12, 64)        18496     \n",
      "_________________________________________________________________\n",
      "conv2d_3 (Conv2D)            (None, 10, 10, 64)        36928     \n",
      "_________________________________________________________________\n",
      "max_pooling2d_1 (MaxPooling2 (None, 5, 5, 64)          0         \n",
      "_________________________________________________________________\n",
      "dropout (Dropout)            (None, 5, 5, 64)          0         \n",
      "_________________________________________________________________\n",
      "flatten (Flatten)            (None, 1600)              0         \n",
      "_________________________________________________________________\n",
      "dense (Dense)                (None, 64)                102464    \n",
      "_________________________________________________________________\n",
      "dropout_1 (Dropout)          (None, 64)                0         \n",
      "_________________________________________________________________\n",
      "dense_1 (Dense)              (None, 2)                 130       \n",
      "=================================================================\n",
      "Total params: 167,586\n",
      "Trainable params: 167,586\n",
      "Non-trainable params: 0\n",
      "_________________________________________________________________\n"
     ]
    }
   ],
   "source": [
    "size_of_filter = (3, 3)\n",
    "size_of_pool = (2, 2)\n",
    "\n",
    "# Making the layers\n",
    "model = Sequential()\n",
    "model.add((Conv2D(32, size_of_filter, input_shape=(IMAGE_SIZE, IMAGE_SIZE, 1), activation='relu')))\n",
    "model.add((Conv2D(32, size_of_filter, activation='relu')))\n",
    "model.add(MaxPooling2D(pool_size=size_of_pool))\n",
    "\n",
    "model.add((Conv2D(64, size_of_filter, activation='relu')))\n",
    "model.add((Conv2D(64, size_of_filter, activation='relu')))\n",
    "model.add(MaxPooling2D(pool_size=size_of_pool))\n",
    "model.add(Dropout(0.5))\n",
    "\n",
    "model.add(Flatten())\n",
    "model.add(Dense(64, activation='relu'))\n",
    "model.add(Dropout(0.5))\n",
    "model.add(Dense(number_of_classes, activation='softmax'))\n",
    "model.compile(Adam(lr=0.001), loss='categorical_crossentropy', metrics=['accuracy'])\n",
    "\n",
    "model.summary()"
   ]
  },
  {
   "cell_type": "markdown",
   "metadata": {},
   "source": [
    "#### Fitting the data into the Model"
   ]
  },
  {
   "cell_type": "code",
   "execution_count": 16,
   "metadata": {
    "scrolled": true
   },
   "outputs": [
    {
     "name": "stdout",
     "output_type": "stream",
     "text": [
      "Epoch 1/25\n",
      "51/51 [==============================] - 8s 141ms/step - loss: 0.6965 - accuracy: 0.5141 - val_loss: 0.6644 - val_accuracy: 0.7158\n",
      "Epoch 2/25\n",
      "51/51 [==============================] - 7s 128ms/step - loss: 0.6491 - accuracy: 0.6104 - val_loss: 0.5276 - val_accuracy: 0.7484\n",
      "Epoch 3/25\n",
      "51/51 [==============================] - 7s 128ms/step - loss: 0.5516 - accuracy: 0.7234 - val_loss: 0.2936 - val_accuracy: 0.8727\n",
      "Epoch 4/25\n",
      "51/51 [==============================] - 7s 131ms/step - loss: 0.3909 - accuracy: 0.8284 - val_loss: 0.1145 - val_accuracy: 0.9689\n",
      "Epoch 5/25\n",
      "51/51 [==============================] - 6s 125ms/step - loss: 0.3222 - accuracy: 0.8589 - val_loss: 0.1563 - val_accuracy: 0.9534\n",
      "Epoch 6/25\n",
      "51/51 [==============================] - 6s 126ms/step - loss: 0.2673 - accuracy: 0.8917 - val_loss: 0.0985 - val_accuracy: 0.9627\n",
      "Epoch 7/25\n",
      "51/51 [==============================] - 7s 128ms/step - loss: 0.2382 - accuracy: 0.9034 - val_loss: 0.1378 - val_accuracy: 0.9534\n",
      "Epoch 8/25\n",
      "51/51 [==============================] - 6s 126ms/step - loss: 0.2284 - accuracy: 0.9180 - val_loss: 0.0537 - val_accuracy: 0.9829\n",
      "Epoch 9/25\n",
      "51/51 [==============================] - 7s 128ms/step - loss: 0.1844 - accuracy: 0.9340 - val_loss: 0.0892 - val_accuracy: 0.9658\n",
      "Epoch 10/25\n",
      "51/51 [==============================] - 7s 136ms/step - loss: 0.1937 - accuracy: 0.9201 - val_loss: 0.0494 - val_accuracy: 0.9860\n",
      "Epoch 11/25\n",
      "51/51 [==============================] - 7s 136ms/step - loss: 0.1602 - accuracy: 0.9378 - val_loss: 0.0425 - val_accuracy: 0.9860\n",
      "Epoch 12/25\n",
      "51/51 [==============================] - 7s 137ms/step - loss: 0.1585 - accuracy: 0.9406 - val_loss: 0.0412 - val_accuracy: 0.9860\n",
      "Epoch 13/25\n",
      "51/51 [==============================] - 7s 137ms/step - loss: 0.1312 - accuracy: 0.9554 - val_loss: 0.0314 - val_accuracy: 0.9922\n",
      "Epoch 14/25\n",
      "51/51 [==============================] - 7s 132ms/step - loss: 0.1421 - accuracy: 0.9461 - val_loss: 0.0290 - val_accuracy: 0.9891\n",
      "Epoch 15/25\n",
      "51/51 [==============================] - 7s 128ms/step - loss: 0.1069 - accuracy: 0.9535 - val_loss: 0.0445 - val_accuracy: 0.9829\n",
      "Epoch 16/25\n",
      "51/51 [==============================] - 7s 135ms/step - loss: 0.0841 - accuracy: 0.9646 - val_loss: 0.0447 - val_accuracy: 0.9829\n",
      "Epoch 17/25\n",
      "51/51 [==============================] - 7s 130ms/step - loss: 0.0980 - accuracy: 0.9616 - val_loss: 0.0420 - val_accuracy: 0.9845\n",
      "Epoch 18/25\n",
      "51/51 [==============================] - 7s 133ms/step - loss: 0.0950 - accuracy: 0.9635 - val_loss: 0.0378 - val_accuracy: 0.9891\n",
      "Epoch 19/25\n",
      "51/51 [==============================] - 7s 135ms/step - loss: 0.0859 - accuracy: 0.9695 - val_loss: 0.0260 - val_accuracy: 0.9938\n",
      "Epoch 20/25\n",
      "51/51 [==============================] - 7s 129ms/step - loss: 0.0846 - accuracy: 0.9678 - val_loss: 0.0289 - val_accuracy: 0.9953\n",
      "Epoch 21/25\n",
      "51/51 [==============================] - 6s 126ms/step - loss: 0.0809 - accuracy: 0.9715 - val_loss: 0.0363 - val_accuracy: 0.9891\n",
      "Epoch 22/25\n",
      "51/51 [==============================] - 7s 128ms/step - loss: 0.0837 - accuracy: 0.9710 - val_loss: 0.0333 - val_accuracy: 0.9891\n",
      "Epoch 23/25\n",
      "51/51 [==============================] - 7s 129ms/step - loss: 0.0984 - accuracy: 0.9605 - val_loss: 0.0354 - val_accuracy: 0.9876\n",
      "Epoch 24/25\n",
      "51/51 [==============================] - 7s 129ms/step - loss: 0.0638 - accuracy: 0.9790 - val_loss: 0.0286 - val_accuracy: 0.9907\n",
      "Epoch 25/25\n",
      "51/51 [==============================] - 6s 127ms/step - loss: 0.0723 - accuracy: 0.9746 - val_loss: 0.0363 - val_accuracy: 0.9907\n"
     ]
    }
   ],
   "source": [
    "history = model.fit(\n",
    "    data_gen.flow(X_train, y_train, batch_size=BATCH_SIZE),\n",
    "    steps_per_epoch = len(X_train) // BATCH_SIZE,\n",
    "    epochs = EPOCHS,\n",
    "    validation_data = (X_validation, y_validation),\n",
    "    shuffle = 1\n",
    ")"
   ]
  },
  {
   "cell_type": "markdown",
   "metadata": {},
   "source": [
    "### Plotting the training loss and accuracy of the model"
   ]
  },
  {
   "cell_type": "code",
   "execution_count": 18,
   "metadata": {},
   "outputs": [
    {
     "data": {
      "image/png": "[encoded data removed]",
      "text/plain": [
       "<Figure size 864x576 with 1 Axes>"
      ]
     },
     "metadata": {},
     "output_type": "display_data"
    }
   ],
   "source": [
    "plt.style.use(\"ggplot\")\n",
    "fig, ax = plt.subplots(figsize=(12, 8))\n",
    "\n",
    "x_axis = np.arange(0, EPOCHS)\n",
    "\n",
    "ax.plot(x_axis, history.history['loss'], label=\"Train Loss\")\n",
    "ax.plot(x_axis, history.history['val_loss'], label=\"Val Loss\")\n",
    "ax.plot(x_axis, history.history['accuracy'], label=\"Train Acc\")\n",
    "ax.plot(x_axis, history.history['val_accuracy'], label=\"Val Acc\")\n",
    "\n",
    "ax.set(\n",
    "    title = \"Training Loss and Accuracy\",\n",
    "    xlabel = \"Epoch No.\",\n",
    "    ylabel = \"Loss/Accuracy\"\n",
    ")\n",
    "\n",
    "ax.legend(loc=\"lower left\")\n",
    "\n",
    "plt.show()"
   ]
  },
  {
   "cell_type": "markdown",
   "metadata": {},
   "source": [
    "## Evaluating the Model"
   ]
  },
  {
   "cell_type": "code",
   "execution_count": 19,
   "metadata": {},
   "outputs": [
    {
     "name": "stdout",
     "output_type": "stream",
     "text": [
      "26/26 [==============================] - 0s 16ms/step - loss: 0.0535 - accuracy: 0.9863\n"
     ]
    },
    {
     "data": {
      "text/plain": [
       "[0.053518567234277725, 0.9863353967666626]"
      ]
     },
     "execution_count": 19,
     "metadata": {},
     "output_type": "execute_result"
    }
   ],
   "source": [
    "model.evaluate(X_test, y_test)"
   ]
  },
  {
   "cell_type": "markdown",
   "metadata": {},
   "source": [
    "## Saving the model"
   ]
  },
  {
   "cell_type": "code",
   "execution_count": 20,
   "metadata": {},
   "outputs": [
    {
     "name": "stdout",
     "output_type": "stream",
     "text": [
      "INFO:tensorflow:Assets written to: ./Data/mask_detection_model.model\\assets\n"
     ]
    }
   ],
   "source": [
    "model.save(MODEL_PATH)"
   ]
  },
  {
   "cell_type": "markdown",
   "metadata": {},
   "source": [
    "# The model looks good with 98% accuracy, so lets go to the next step"
   ]
  }
 ],
 "metadata": {
  "kernelspec": {
   "display_name": "maskDetector",
   "language": "python",
   "name": "maskdetector"
  },
  "language_info": {
   "codemirror_mode": {
    "name": "ipython",
    "version": 3
   },
   "file_extension": ".py",
   "mimetype": "text/x-python",
   "name": "python",
   "nbconvert_exporter": "python",
   "pygments_lexer": "ipython3",
   "version": "3.6.13"
  }
 },
 "nbformat": 4,
 "nbformat_minor": 4
}
