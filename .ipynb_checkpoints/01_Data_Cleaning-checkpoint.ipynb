{
 "cells": [
  {
   "cell_type": "markdown",
   "metadata": {},
   "source": [
    "# 01. Data Cleaning\n",
    "![Data Cleaning](./Assets/data_cleaning.png)\n",
    "<hr>\n",
    "\n",
    "#### To get most out of data we should clean and convert it into the type which we need.<br>\n",
    "**In this notebook we will be Convetting the data into the type which we want**"
   ]
  },
  {
   "cell_type": "markdown",
   "metadata": {},
   "source": [
    "## The Dataset used is a subpart of [Face Mask ~12K Images Dataset by Ashish Jangra on Kaggle](https://www.kaggle.com/ashishjangra27/face-mask-12k-images-dataset)\n",
    "### We are using approx. 4,000 Images form the dataset"
   ]
  },
  {
   "cell_type": "code",
   "execution_count": 1,
   "metadata": {},
   "outputs": [],
   "source": [
    "# Standard Imports\n",
    "import numpy as np\n",
    "import matplotlib.pyplot as plt\n",
    "import cv2\n",
    "import os"
   ]
  },
  {
   "cell_type": "code",
   "execution_count": 2,
   "metadata": {},
   "outputs": [],
   "source": [
    "# Constants\n",
    "DATASET_PATH = './Dataset'\n",
    "IMAGE_SIZE = 32  # To convert the Image into size 32 x 32 px"
   ]
  },
  {
   "cell_type": "code",
   "execution_count": 3,
   "metadata": {},
   "outputs": [],
   "source": [
    "# Helping lists\n",
    "images = []\n",
    "class_no = []"
   ]
  },
  {
   "cell_type": "markdown",
   "metadata": {},
   "source": [
    "Getting the classes from the Dataset"
   ]
  },
  {
   "cell_type": "code",
   "execution_count": 4,
   "metadata": {},
   "outputs": [
    {
     "data": {
      "text/plain": [
       "(2, ['WithMask', 'WithoutMask'])"
      ]
     },
     "execution_count": 4,
     "metadata": {},
     "output_type": "execute_result"
    }
   ],
   "source": [
    "classes = os.listdir(DATASET_PATH)\n",
    "number_of_classes = len(classes)\n",
    "\n",
    "number_of_classes, classes"
   ]
  },
  {
   "cell_type": "markdown",
   "metadata": {},
   "source": [
    "## Importing the data "
   ]
  },
  {
   "cell_type": "code",
   "execution_count": 5,
   "metadata": {},
   "outputs": [
    {
     "name": "stdout",
     "output_type": "stream",
     "text": [
      "[+] Importing Classes...\n",
      "[+] Imported WithMask or 0 class\n",
      "[+] Imported WithoutMask or 1 class\n"
     ]
    }
   ],
   "source": [
    "print(\"[+] Importing Classes...\")\n",
    "\n",
    "for i, class_ in enumerate(classes):\n",
    "    # Get the names of all the pictures in the class\n",
    "    image_name_list = os.listdir(DATASET_PATH + \"/\" + class_)\n",
    "    \n",
    "    # Read every image in the class\n",
    "    for image_name in image_name_list:\n",
    "        img = cv2.imread(DATASET_PATH + \"/\" + class_ + \"/\" + image_name)\n",
    "        img = cv2.resize(img, (IMAGE_SIZE, IMAGE_SIZE))\n",
    "        \n",
    "        # add the image and class(as a number) to the data list\n",
    "        images.append(img)\n",
    "        class_no.append(i)\n",
    "        \n",
    "    print(f\"[+] Imported {class_} or {i} class\")"
   ]
  },
  {
   "cell_type": "markdown",
   "metadata": {},
   "source": [
    "_Converting the lists into numpy arrays_"
   ]
  },
  {
   "cell_type": "code",
   "execution_count": 6,
   "metadata": {},
   "outputs": [],
   "source": [
    "images = np.array(images)\n",
    "class_no = np.array(class_no)"
   ]
  },
  {
   "cell_type": "code",
   "execution_count": 7,
   "metadata": {},
   "outputs": [
    {
     "data": {
      "text/plain": [
       "(4024, 4024, array([0, 1]))"
      ]
     },
     "execution_count": 7,
     "metadata": {},
     "output_type": "execute_result"
    }
   ],
   "source": [
    "# Checking for the data length and unique classes\n",
    "len(images), len(class_no), np.unique(class_no)"
   ]
  },
  {
   "cell_type": "markdown",
   "metadata": {},
   "source": [
    "Used stackoverflow to get the unique `values` and their `counts` [Question link](https://stackoverflow.com/a/25943480) "
   ]
  },
  {
   "cell_type": "code",
   "execution_count": 8,
   "metadata": {},
   "outputs": [],
   "source": [
    "values, counts = np.unique(class_no, return_counts=True)"
   ]
  },
  {
   "cell_type": "markdown",
   "metadata": {},
   "source": [
    "**Plotting the number of data for each classes**"
   ]
  },
  {
   "cell_type": "code",
   "execution_count": 9,
   "metadata": {},
   "outputs": [
    {
     "data": {
      "image/png": "[encoded data removed]",
      "text/plain": [
       "<Figure size 864x576 with 1 Axes>"
      ]
     },
     "metadata": {},
     "output_type": "display_data"
    }
   ],
   "source": [
    "plt.style.use('ggplot')\n",
    "fig, ax = plt.subplots(figsize=(12, 8))\n",
    "\n",
    "ax.bar(values, counts, tick_label=values)\n",
    "ax.set(\n",
    "    title=\"Bar Plot of Classes & Images\",\n",
    "    xlabel=\"Classes\",\n",
    "    ylabel=\"No of Images\",\n",
    "    ylim=[1550, 2050]\n",
    ")\n",
    "\n",
    "plt.show()"
   ]
  },
  {
   "cell_type": "markdown",
   "metadata": {},
   "source": [
    "## Saving the data files"
   ]
  },
  {
   "cell_type": "code",
   "execution_count": 10,
   "metadata": {},
   "outputs": [],
   "source": [
    "np.save('Data/images.npy', images)"
   ]
  },
  {
   "cell_type": "code",
   "execution_count": 11,
   "metadata": {},
   "outputs": [],
   "source": [
    "np.save('Data/target.npy', class_no)"
   ]
  },
  {
   "cell_type": "markdown",
   "metadata": {},
   "source": [
    "## Data convertion done!\n"
   ]
  }
 ],
 "metadata": {
  "kernelspec": {
   "display_name": "maskDetector",
   "language": "python",
   "name": "maskdetector"
  },
  "language_info": {
   "codemirror_mode": {
    "name": "ipython",
    "version": 3
   },
   "file_extension": ".py",
   "mimetype": "text/x-python",
   "name": "python",
   "nbconvert_exporter": "python",
   "pygments_lexer": "ipython3",
   "version": "3.6.13"
  }
 },
 "nbformat": 4,
 "nbformat_minor": 4
}
